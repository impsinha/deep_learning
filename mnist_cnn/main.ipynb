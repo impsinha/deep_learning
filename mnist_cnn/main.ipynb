{
 "cells": [
  {
   "cell_type": "code",
   "execution_count": 76,
   "id": "8b82dac7-dfe8-4ce6-9f71-681a367cd954",
   "metadata": {},
   "outputs": [],
   "source": [
    "from tensorflow import keras"
   ]
  },
  {
   "cell_type": "code",
   "execution_count": 77,
   "id": "384e5055-0bed-4939-9810-d73d26b988a3",
   "metadata": {},
   "outputs": [],
   "source": [
    "(x_train, y_train), (x_test, y_test) = keras.datasets.mnist.load_data()"
   ]
  },
  {
   "cell_type": "code",
   "execution_count": 13,
   "id": "c094903e-2801-4a57-b3a1-0c9b41265497",
   "metadata": {},
   "outputs": [],
   "source": [
    "train_size,rows,cols = x_train.shape\n",
    "x_train = x_train.reshape(x_train.shape[0], rows, cols, 1)\n",
    "x_test = x_test.reshape(x_test.shape[0], rows, cols, 1)"
   ]
  },
  {
   "cell_type": "code",
   "execution_count": 14,
   "id": "83c09b17-68bc-4c45-b321-d041112ed137",
   "metadata": {},
   "outputs": [],
   "source": [
    "y_train = keras.utils.to_categorical(y_train)\n",
    "y_test = keras.utils.to_categorical(y_test)"
   ]
  },
  {
   "cell_type": "code",
   "execution_count": 15,
   "id": "693a4f12-001a-462c-b70d-5c722d263146",
   "metadata": {},
   "outputs": [],
   "source": [
    "x_train = x_train.astype('float32')/255\n",
    "x_test = x_test.astype('float32')/255"
   ]
  },
  {
   "cell_type": "code",
   "execution_count": 79,
   "id": "39c4edd7-7f93-469a-b88f-8db96a59f44c",
   "metadata": {},
   "outputs": [],
   "source": [
    "from keras.layers import Conv2D, Dense, Flatten, Input, MaxPooling2D, Dropout\n",
    "from keras.models import Model\n",
    "from keras import optimizers"
   ]
  },
  {
   "cell_type": "code",
   "execution_count": 75,
   "id": "c993e591-3bd4-4661-b85c-73a1aa8dbdd1",
   "metadata": {},
   "outputs": [
    {
     "name": "stdout",
     "output_type": "stream",
     "text": [
      "Epoch 1/10\n",
      "600/600 [==============================] - 21s 35ms/step - loss: 0.1699 - accuracy: 0.9541 - val_loss: 0.0547 - val_accuracy: 0.9816\n",
      "Epoch 2/10\n",
      "600/600 [==============================] - 21s 35ms/step - loss: 0.0527 - accuracy: 0.9843 - val_loss: 0.0341 - val_accuracy: 0.9888\n",
      "Epoch 3/10\n",
      "600/600 [==============================] - 21s 35ms/step - loss: 0.0352 - accuracy: 0.9890 - val_loss: 0.0325 - val_accuracy: 0.9896\n",
      "Epoch 4/10\n",
      "600/600 [==============================] - 21s 34ms/step - loss: 0.0262 - accuracy: 0.9919 - val_loss: 0.0260 - val_accuracy: 0.9917\n",
      "Epoch 5/10\n",
      "600/600 [==============================] - 21s 35ms/step - loss: 0.0208 - accuracy: 0.9936 - val_loss: 0.0268 - val_accuracy: 0.9914\n",
      "Epoch 6/10\n",
      "600/600 [==============================] - 21s 34ms/step - loss: 0.0182 - accuracy: 0.9943 - val_loss: 0.0259 - val_accuracy: 0.9919\n",
      "Epoch 7/10\n",
      "600/600 [==============================] - 21s 34ms/step - loss: 0.0168 - accuracy: 0.9954 - val_loss: 0.0250 - val_accuracy: 0.9924\n",
      "Epoch 8/10\n",
      "600/600 [==============================] - 21s 34ms/step - loss: 0.0163 - accuracy: 0.9953 - val_loss: 0.0252 - val_accuracy: 0.9924\n",
      "Epoch 9/10\n",
      "600/600 [==============================] - 21s 34ms/step - loss: 0.0159 - accuracy: 0.9956 - val_loss: 0.0251 - val_accuracy: 0.9928\n",
      "Epoch 10/10\n",
      "600/600 [==============================] - 21s 35ms/step - loss: 0.0156 - accuracy: 0.9957 - val_loss: 0.0250 - val_accuracy: 0.9929\n"
     ]
    },
    {
     "data": {
      "text/plain": [
       "<keras.callbacks.History at 0x38076d9a0>"
      ]
     },
     "execution_count": 75,
     "metadata": {},
     "output_type": "execute_result"
    }
   ],
   "source": [
    "input_layer = Input(shape=x_train.shape[1:])\n",
    "layer_1 = Conv2D(32, kernel_size=(3,3), activation='relu', kernel_initializer='he_uniform')(input_layer)\n",
    "layer_2 = Conv2D(64, kernel_size=(3,3), activation='relu', kernel_initializer='he_uniform')(layer_1)\n",
    "layer_3 = MaxPooling2D(pool_size=(3,3),padding=\"same\")(layer_2)\n",
    "layer_4 = Dropout(0.3)(layer_3)\n",
    "layer_5 = Flatten()(layer_4)\n",
    "layer_6 = Dense(250, activation='sigmoid')(layer_5)\n",
    "output_layer = Dense(10, activation='softmax')(layer_6)\n",
    "\n",
    "model = Model([input_layer], output_layer)\n",
    "lr_schedule = keras.optimizers.schedules.ExponentialDecay(\n",
    "    initial_learning_rate=0.01,\n",
    "    decay_steps=1000,\n",
    "    decay_rate=0.9\n",
    ")\n",
    "model.compile(\n",
    "    optimizer=optimizers.Adam(learning_rate=lr_schedule),\n",
    "    loss=keras.losses.categorical_crossentropy,\n",
    "    metrics=['accuracy']\n",
    ")\n",
    "def printEpocLr(epoch, lr):\n",
    "    print(\"Epoch\",epoch,\"lr\",lr)\n",
    "model.fit(x_train, y_train, epochs=10, batch_size=100, validation_data=(x_test, y_test))"
   ]
  },
  {
   "cell_type": "code",
   "execution_count": null,
   "id": "4f8f5ab8",
   "metadata": {},
   "outputs": [],
   "source": [
    "model.save_weights('mnist_cnn_.h5')"
   ]
  },
  {
   "cell_type": "code",
   "execution_count": null,
   "id": "d24d19b9",
   "metadata": {},
   "outputs": [],
   "source": []
  }
 ],
 "metadata": {
  "kernelspec": {
   "display_name": "Python 3 (ipykernel)",
   "language": "python",
   "name": "python3"
  },
  "language_info": {
   "codemirror_mode": {
    "name": "ipython",
    "version": 3
   },
   "file_extension": ".py",
   "mimetype": "text/x-python",
   "name": "python",
   "nbconvert_exporter": "python",
   "pygments_lexer": "ipython3",
   "version": "3.9.18"
  }
 },
 "nbformat": 4,
 "nbformat_minor": 5
}
